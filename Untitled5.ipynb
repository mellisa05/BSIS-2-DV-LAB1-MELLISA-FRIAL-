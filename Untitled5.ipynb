{
  "nbformat": 4,
  "nbformat_minor": 0,
  "metadata": {
    "colab": {
      "provenance": [],
      "authorship_tag": "ABX9TyMUOI4o9curQn0Vwj2mEUul",
      "include_colab_link": true
    },
    "kernelspec": {
      "name": "python3",
      "display_name": "Python 3"
    },
    "language_info": {
      "name": "python"
    }
  },
  "cells": [
    {
      "cell_type": "markdown",
      "metadata": {
        "id": "view-in-github",
        "colab_type": "text"
      },
      "source": [
        "<a href=\"https://colab.research.google.com/github/mellisa05/BSIS-2-DV-LAB1-MELLISA-FRIAL-/blob/main/Untitled5.ipynb\" target=\"_parent\"><img src=\"https://colab.research.google.com/assets/colab-badge.svg\" alt=\"Open In Colab\"/></a>"
      ]
    },
    {
      "cell_type": "code",
      "execution_count": 1,
      "metadata": {
        "id": "_JFwwR4SeY5i"
      },
      "outputs": [],
      "source": [
        "import pandas as pd"
      ]
    },
    {
      "cell_type": "code",
      "source": [
        "# Create a simple time series dataset"
      ],
      "metadata": {
        "id": "zKrQQqyDfdjm"
      },
      "execution_count": 2,
      "outputs": []
    },
    {
      "cell_type": "code",
      "source": [
        "date_rng = pd.date_range(start='2022-01-01',end='2022-01-10',freq='D')"
      ],
      "metadata": {
        "id": "dXx6Tf4MflId"
      },
      "execution_count": 5,
      "outputs": []
    },
    {
      "cell_type": "code",
      "source": [
        "time_series_data = pd.Series(range(1,11),index = date_rng)"
      ],
      "metadata": {
        "id": "W_2-Czy0gb9E"
      },
      "execution_count": 7,
      "outputs": []
    },
    {
      "cell_type": "code",
      "source": [
        "print(\"Temporal Order.\")"
      ],
      "metadata": {
        "colab": {
          "base_uri": "https://localhost:8080/"
        },
        "id": "NOa1uGFVgyAK",
        "outputId": "d692bf07-93fa-495f-c007-ffd4ca1438f0"
      },
      "execution_count": 8,
      "outputs": [
        {
          "output_type": "stream",
          "name": "stdout",
          "text": [
            "Temporal Order.\n"
          ]
        }
      ]
    },
    {
      "cell_type": "code",
      "source": [
        "print(time_series_data)"
      ],
      "metadata": {
        "colab": {
          "base_uri": "https://localhost:8080/"
        },
        "id": "e_Iv1xcLg5Fp",
        "outputId": "5c00e55b-7515-4ac0-b921-20764a316295"
      },
      "execution_count": 9,
      "outputs": [
        {
          "output_type": "stream",
          "name": "stdout",
          "text": [
            "2022-01-01     1\n",
            "2022-01-02     2\n",
            "2022-01-03     3\n",
            "2022-01-04     4\n",
            "2022-01-05     5\n",
            "2022-01-06     6\n",
            "2022-01-07     7\n",
            "2022-01-08     8\n",
            "2022-01-09     9\n",
            "2022-01-10    10\n",
            "Freq: D, dtype: int64\n"
          ]
        }
      ]
    },
    {
      "cell_type": "code",
      "source": [],
      "metadata": {
        "id": "YrMy6yt-hN7t"
      },
      "execution_count": null,
      "outputs": []
    }
  ]
}